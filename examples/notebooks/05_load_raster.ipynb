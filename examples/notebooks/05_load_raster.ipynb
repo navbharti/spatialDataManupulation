{
  "nbformat": 4,
  "nbformat_minor": 0,
  "metadata": {
    "hide_input": false,
    "kernelspec": {
      "display_name": "Python 3",
      "language": "python",
      "name": "python3"
    },
    "language_info": {
      "codemirror_mode": {
        "name": "ipython",
        "version": 3
      },
      "file_extension": ".py",
      "mimetype": "text/x-python",
      "name": "python",
      "nbconvert_exporter": "python",
      "pygments_lexer": "ipython3",
      "version": "3.8.5"
    },
    "toc": {
      "base_numbering": 1,
      "nav_menu": {},
      "number_sections": true,
      "sideBar": true,
      "skip_h1_title": true,
      "title_cell": "Table of Contents",
      "title_sidebar": "Table of Contents",
      "toc_cell": false,
      "toc_position": {
        "height": "calc(100% - 180px)",
        "left": "10px",
        "top": "150px",
        "width": "313px"
      },
      "toc_section_display": true,
      "toc_window_display": true
    },
    "varInspector": {
      "cols": {
        "lenName": 16,
        "lenType": 16,
        "lenVar": 40
      },
      "kernels_config": {
        "python": {
          "delete_cmd_postfix": "",
          "delete_cmd_prefix": "del ",
          "library": "var_list.py",
          "varRefreshCmd": "print(var_dic_list())"
        },
        "r": {
          "delete_cmd_postfix": ") ",
          "delete_cmd_prefix": "rm(",
          "library": "var_list.r",
          "varRefreshCmd": "cat(var_dic_list()) "
        }
      },
      "types_to_exclude": [
        "module",
        "function",
        "builtin_function_or_method",
        "instance",
        "_Feature"
      ],
      "window_display": false
    },
    "colab": {
      "name": "05_load_raster.ipynb",
      "provenance": []
    },
    "widgets": {
      "application/vnd.jupyter.widget-state+json": {
        "273617e89c6c4d0a970f88d5bab41d64": {
          "model_module": "jupyter-leaflet",
          "model_name": "LeafletMapModel",
          "state": {
            "_view_name": "LeafletMapView",
            "keyboard_pan_offset": 80,
            "right": 0,
            "tap": true,
            "_view_module": "jupyter-leaflet",
            "max_zoom": 18,
            "_model_module_version": "^0.13.5",
            "_view_count": null,
            "zoom_snap": 1,
            "min_zoom": 1,
            "bounce_at_zoom_limits": true,
            "keyboard": true,
            "north": 0,
            "scroll_wheel_zoom": true,
            "dragging": true,
            "_model_module": "jupyter-leaflet",
            "zoom_delta": 1,
            "close_popup_on_click": true,
            "fullscreen": false,
            "style": "IPY_MODEL_bc0bc6acee5f451ea88d3005d25d7de0",
            "layout": "IPY_MODEL_0d185556b4044adba9989e43dc60ecdf",
            "bottom": 0,
            "inertia_max_speed": 1500,
            "top": 9007199254740991,
            "box_zoom": true,
            "controls": [
              "IPY_MODEL_ec6de4ce7bf34bb482c7a3c27d57dbec",
              "IPY_MODEL_fde82a3c7a0e4e8b80eee96280a1146d",
              "IPY_MODEL_7468d0e1df174761b649eaaec26c6f1c",
              "IPY_MODEL_1e339523f258431abb8fdd99e145ff9c",
              "IPY_MODEL_f18c7694a57541cd95d646e65215b491",
              "IPY_MODEL_d27904153a3545c8b0d10c32180a1133"
            ],
            "default_style": "IPY_MODEL_e266fcdd8d7447a9ad77b0f3f3192874",
            "east": 0,
            "double_click_zoom": true,
            "interpolation": "bilinear",
            "layers": [
              "IPY_MODEL_b5f4f7337f3a40129c606fa413f8b66a",
              "IPY_MODEL_e434c0ee786e4fbca42f93b5a6a633a8"
            ],
            "dragging_style": "IPY_MODEL_45ec2db686a04011ad2fa9664ecf3af5",
            "_dom_classes": [],
            "zoom_animation_threshold": 4,
            "_model_name": "LeafletMapModel",
            "zoom_start": 12,
            "modisdate": "yesterday",
            "keyboard_zoom_offset": 1,
            "inertia_deceleration": 3000,
            "inertia": true,
            "crs": {
              "name": "EPSG3857",
              "custom": false
            },
            "center": [
              40,
              -100
            ],
            "zoom": 4,
            "world_copy_jump": false,
            "_view_module_version": "^0.13.5",
            "window_url": "",
            "tap_tolerance": 15,
            "west": 0,
            "touch_zoom": true,
            "options": [
              "bounce_at_zoom_limits",
              "box_zoom",
              "center",
              "close_popup_on_click",
              "double_click_zoom",
              "dragging",
              "fullscreen",
              "inertia",
              "inertia_deceleration",
              "inertia_max_speed",
              "interpolation",
              "keyboard",
              "keyboard_pan_offset",
              "keyboard_zoom_offset",
              "max_zoom",
              "min_zoom",
              "scroll_wheel_zoom",
              "tap",
              "tap_tolerance",
              "touch_zoom",
              "world_copy_jump",
              "zoom",
              "zoom_animation_threshold",
              "zoom_delta",
              "zoom_snap",
              "zoom_start"
            ],
            "south": 0,
            "left": 9007199254740991
          }
        }
      }
    }
  },
  "cells": [
    {
      "cell_type": "markdown",
      "metadata": {
        "id": "ESH6pLQcQ3Dy"
      },
      "source": [
        "[![image](https://colab.research.google.com/assets/colab-badge.svg)](https://githubtocolab.com/giswqs/leafmap/blob/master/examples/notebooks/05_load_raster.ipynb)\n",
        "[![image](https://binder.pangeo.io/badge_logo.svg)](https://gishub.org/leafmap-pangeo)\n",
        "\n",
        "Uncomment the following line to install [leafmap](https://leafmap.org) if needed."
      ]
    },
    {
      "cell_type": "code",
      "metadata": {
        "id": "7lfkKT4pQ3D1",
        "outputId": "b4c39ab2-009c-4c05-ee1b-3ec7f95f3c1b",
        "colab": {
          "base_uri": "https://localhost:8080/"
        }
      },
      "source": [
        "!pip install leafmap"
      ],
      "execution_count": 1,
      "outputs": [
        {
          "output_type": "stream",
          "text": [
            "Collecting leafmap\n",
            "\u001b[?25l  Downloading https://files.pythonhosted.org/packages/e1/a9/f1fe358cc4ecc6003ad29fcf04de59e8484dc1c0465e70fcef671e6c895b/leafmap-0.2.0-py2.py3-none-any.whl (61kB)\n",
            "\u001b[K     |████████████████████████████████| 61kB 1.8MB/s \n",
            "\u001b[?25hCollecting folium>=0.12.0\n",
            "\u001b[?25l  Downloading https://files.pythonhosted.org/packages/c3/83/e8cb37afc2f016a1cf4caab8d22caf7fe4156c4c15230d8abc9c83547e0c/folium-0.12.1-py2.py3-none-any.whl (94kB)\n",
            "\u001b[K     |████████████████████████████████| 102kB 6.1MB/s \n",
            "\u001b[?25hRequirement already satisfied: googledrivedownloader in /usr/local/lib/python3.7/dist-packages (from leafmap) (0.4)\n",
            "Collecting ipyevents\n",
            "\u001b[?25l  Downloading https://files.pythonhosted.org/packages/ba/b5/b5861db870aa465be738996da9833fdf39e395b9aa0802ed2fc347297ae8/ipyevents-0.8.2-py2.py3-none-any.whl (133kB)\n",
            "\u001b[K     |████████████████████████████████| 143kB 26.0MB/s \n",
            "\u001b[?25hCollecting python-box\n",
            "  Downloading https://files.pythonhosted.org/packages/ae/55/b81be1c1456d93db93905b364d19cac5dde22fb8f442b42d41087c2fe28f/python_box-5.3.0-py3-none-any.whl\n",
            "Collecting whiteboxgui\n",
            "  Downloading https://files.pythonhosted.org/packages/3e/9d/71e9192f4c748b29efe8beecd5a88300a654e2a87b856c7a3bb91fdbe606/whiteboxgui-0.1.9-py2.py3-none-any.whl\n",
            "Collecting colour\n",
            "  Downloading https://files.pythonhosted.org/packages/74/46/e81907704ab203206769dee1385dc77e1407576ff8f50a0681d0a6b541be/colour-0.1.5-py2.py3-none-any.whl\n",
            "Collecting pyshp>=2.1.3\n",
            "\u001b[?25l  Downloading https://files.pythonhosted.org/packages/38/85/fbf87e7aa55103e0d06af756bdbc15cf821fa580414c23142d60a35d4f85/pyshp-2.1.3.tar.gz (219kB)\n",
            "\u001b[K     |████████████████████████████████| 225kB 32.2MB/s \n",
            "\u001b[?25hCollecting mss\n",
            "\u001b[?25l  Downloading https://files.pythonhosted.org/packages/d7/5f/77dece686b8d08a17430e169e936722693712b8cf1ee638caa8b1cb6452b/mss-6.1.0-py3-none-any.whl (76kB)\n",
            "\u001b[K     |████████████████████████████████| 81kB 8.0MB/s \n",
            "\u001b[?25hRequirement already satisfied: matplotlib in /usr/local/lib/python3.7/dist-packages (from leafmap) (3.2.2)\n",
            "Requirement already satisfied: pandas in /usr/local/lib/python3.7/dist-packages (from leafmap) (1.1.5)\n",
            "Collecting pycrs\n",
            "  Downloading https://files.pythonhosted.org/packages/50/0b/33c6ab39701d982eabfdc732d920862d79d7598893c7291c5f6ec1e66d3c/PyCRS-1.0.2.tar.gz\n",
            "Collecting bqplot\n",
            "\u001b[?25l  Downloading https://files.pythonhosted.org/packages/75/aa/9e766977822e03603e58c5bb48684085f1ac5c60ffc6f6a5dbef57881e89/bqplot-0.12.29-py2.py3-none-any.whl (1.2MB)\n",
            "\u001b[K     |████████████████████████████████| 1.2MB 32.0MB/s \n",
            "\u001b[?25hCollecting ipyleaflet\n",
            "\u001b[?25l  Downloading https://files.pythonhosted.org/packages/1d/8f/c294cca18019dc553bd307e561165a5969ee46a7c067a769ca1590a54592/ipyleaflet-0.13.6-py2.py3-none-any.whl (3.3MB)\n",
            "\u001b[K     |████████████████████████████████| 3.3MB 21.8MB/s \n",
            "\u001b[?25hRequirement already satisfied: numpy in /usr/local/lib/python3.7/dist-packages (from leafmap) (1.19.5)\n",
            "Requirement already satisfied: requests in /usr/local/lib/python3.7/dist-packages (from folium>=0.12.0->leafmap) (2.23.0)\n",
            "Requirement already satisfied: branca>=0.3.0 in /usr/local/lib/python3.7/dist-packages (from folium>=0.12.0->leafmap) (0.4.2)\n",
            "Requirement already satisfied: jinja2>=2.9 in /usr/local/lib/python3.7/dist-packages (from folium>=0.12.0->leafmap) (2.11.3)\n",
            "Requirement already satisfied: ipywidgets>=7.0.0 in /usr/local/lib/python3.7/dist-packages (from ipyevents->leafmap) (7.6.3)\n",
            "Collecting ipytree\n",
            "\u001b[?25l  Downloading https://files.pythonhosted.org/packages/57/a3/67e37560306b4bb72d6d91cca980e972e324357ae50e8a77519bebbc03ea/ipytree-0.2.1-py2.py3-none-any.whl (1.3MB)\n",
            "\u001b[K     |████████████████████████████████| 1.3MB 31.5MB/s \n",
            "\u001b[?25hCollecting whitebox\n",
            "\u001b[?25l  Downloading https://files.pythonhosted.org/packages/c8/ff/e6be757f2341db6adeab20fa949865297f68818d78dd493ca5a38d83b7d2/whitebox-1.5.0-py2.py3-none-any.whl (67kB)\n",
            "\u001b[K     |████████████████████████████████| 71kB 7.3MB/s \n",
            "\u001b[?25hCollecting ipyfilechooser\n",
            "  Downloading https://files.pythonhosted.org/packages/5b/4a/f117ea1d1fd5f4c488295a1af5d69a6fa59f676e3cfd4a427f6d52aa6294/ipyfilechooser-0.4.3-py3-none-any.whl\n",
            "Requirement already satisfied: python-dateutil>=2.1 in /usr/local/lib/python3.7/dist-packages (from matplotlib->leafmap) (2.8.1)\n",
            "Requirement already satisfied: kiwisolver>=1.0.1 in /usr/local/lib/python3.7/dist-packages (from matplotlib->leafmap) (1.3.1)\n",
            "Requirement already satisfied: cycler>=0.10 in /usr/local/lib/python3.7/dist-packages (from matplotlib->leafmap) (0.10.0)\n",
            "Requirement already satisfied: pyparsing!=2.0.4,!=2.1.2,!=2.1.6,>=2.0.1 in /usr/local/lib/python3.7/dist-packages (from matplotlib->leafmap) (2.4.7)\n",
            "Requirement already satisfied: pytz>=2017.2 in /usr/local/lib/python3.7/dist-packages (from pandas->leafmap) (2018.9)\n",
            "Collecting traittypes>=0.0.6\n",
            "  Downloading https://files.pythonhosted.org/packages/9c/d1/8d5bd662703cc1764d986f6908a608777305946fa634d34c470cd4a1e729/traittypes-0.2.1-py2.py3-none-any.whl\n",
            "Requirement already satisfied: traitlets>=4.3.0 in /usr/local/lib/python3.7/dist-packages (from bqplot->leafmap) (5.0.5)\n",
            "Requirement already satisfied: shapely in /usr/local/lib/python3.7/dist-packages (from ipyleaflet->leafmap) (1.7.1)\n",
            "Requirement already satisfied: certifi>=2017.4.17 in /usr/local/lib/python3.7/dist-packages (from requests->folium>=0.12.0->leafmap) (2020.12.5)\n",
            "Requirement already satisfied: chardet<4,>=3.0.2 in /usr/local/lib/python3.7/dist-packages (from requests->folium>=0.12.0->leafmap) (3.0.4)\n",
            "Requirement already satisfied: idna<3,>=2.5 in /usr/local/lib/python3.7/dist-packages (from requests->folium>=0.12.0->leafmap) (2.10)\n",
            "Requirement already satisfied: urllib3!=1.25.0,!=1.25.1,<1.26,>=1.21.1 in /usr/local/lib/python3.7/dist-packages (from requests->folium>=0.12.0->leafmap) (1.24.3)\n",
            "Requirement already satisfied: MarkupSafe>=0.23 in /usr/local/lib/python3.7/dist-packages (from jinja2>=2.9->folium>=0.12.0->leafmap) (2.0.1)\n",
            "Requirement already satisfied: nbformat>=4.2.0 in /usr/local/lib/python3.7/dist-packages (from ipywidgets>=7.0.0->ipyevents->leafmap) (5.1.3)\n",
            "Requirement already satisfied: ipython>=4.0.0; python_version >= \"3.3\" in /usr/local/lib/python3.7/dist-packages (from ipywidgets>=7.0.0->ipyevents->leafmap) (5.5.0)\n",
            "Requirement already satisfied: ipykernel>=4.5.1 in /usr/local/lib/python3.7/dist-packages (from ipywidgets>=7.0.0->ipyevents->leafmap) (4.10.1)\n",
            "Requirement already satisfied: widgetsnbextension~=3.5.0 in /usr/local/lib/python3.7/dist-packages (from ipywidgets>=7.0.0->ipyevents->leafmap) (3.5.1)\n",
            "Requirement already satisfied: jupyterlab-widgets>=1.0.0; python_version >= \"3.6\" in /usr/local/lib/python3.7/dist-packages (from ipywidgets>=7.0.0->ipyevents->leafmap) (1.0.0)\n",
            "Requirement already satisfied: Click>=6.0 in /usr/local/lib/python3.7/dist-packages (from whitebox->whiteboxgui->leafmap) (7.1.2)\n",
            "Requirement already satisfied: six>=1.5 in /usr/local/lib/python3.7/dist-packages (from python-dateutil>=2.1->matplotlib->leafmap) (1.15.0)\n",
            "Requirement already satisfied: ipython-genutils in /usr/local/lib/python3.7/dist-packages (from traitlets>=4.3.0->bqplot->leafmap) (0.2.0)\n",
            "Requirement already satisfied: jupyter-core in /usr/local/lib/python3.7/dist-packages (from nbformat>=4.2.0->ipywidgets>=7.0.0->ipyevents->leafmap) (4.7.1)\n",
            "Requirement already satisfied: jsonschema!=2.5.0,>=2.4 in /usr/local/lib/python3.7/dist-packages (from nbformat>=4.2.0->ipywidgets>=7.0.0->ipyevents->leafmap) (2.6.0)\n",
            "Requirement already satisfied: decorator in /usr/local/lib/python3.7/dist-packages (from ipython>=4.0.0; python_version >= \"3.3\"->ipywidgets>=7.0.0->ipyevents->leafmap) (4.4.2)\n",
            "Requirement already satisfied: prompt-toolkit<2.0.0,>=1.0.4 in /usr/local/lib/python3.7/dist-packages (from ipython>=4.0.0; python_version >= \"3.3\"->ipywidgets>=7.0.0->ipyevents->leafmap) (1.0.18)\n",
            "Requirement already satisfied: simplegeneric>0.8 in /usr/local/lib/python3.7/dist-packages (from ipython>=4.0.0; python_version >= \"3.3\"->ipywidgets>=7.0.0->ipyevents->leafmap) (0.8.1)\n",
            "Requirement already satisfied: pickleshare in /usr/local/lib/python3.7/dist-packages (from ipython>=4.0.0; python_version >= \"3.3\"->ipywidgets>=7.0.0->ipyevents->leafmap) (0.7.5)\n",
            "Requirement already satisfied: setuptools>=18.5 in /usr/local/lib/python3.7/dist-packages (from ipython>=4.0.0; python_version >= \"3.3\"->ipywidgets>=7.0.0->ipyevents->leafmap) (57.0.0)\n",
            "Requirement already satisfied: pexpect; sys_platform != \"win32\" in /usr/local/lib/python3.7/dist-packages (from ipython>=4.0.0; python_version >= \"3.3\"->ipywidgets>=7.0.0->ipyevents->leafmap) (4.8.0)\n",
            "Requirement already satisfied: pygments in /usr/local/lib/python3.7/dist-packages (from ipython>=4.0.0; python_version >= \"3.3\"->ipywidgets>=7.0.0->ipyevents->leafmap) (2.6.1)\n",
            "Requirement already satisfied: tornado>=4.0 in /usr/local/lib/python3.7/dist-packages (from ipykernel>=4.5.1->ipywidgets>=7.0.0->ipyevents->leafmap) (5.1.1)\n",
            "Requirement already satisfied: jupyter-client in /usr/local/lib/python3.7/dist-packages (from ipykernel>=4.5.1->ipywidgets>=7.0.0->ipyevents->leafmap) (5.3.5)\n",
            "Requirement already satisfied: notebook>=4.4.1 in /usr/local/lib/python3.7/dist-packages (from widgetsnbextension~=3.5.0->ipywidgets>=7.0.0->ipyevents->leafmap) (5.3.1)\n",
            "Requirement already satisfied: wcwidth in /usr/local/lib/python3.7/dist-packages (from prompt-toolkit<2.0.0,>=1.0.4->ipython>=4.0.0; python_version >= \"3.3\"->ipywidgets>=7.0.0->ipyevents->leafmap) (0.2.5)\n",
            "Requirement already satisfied: ptyprocess>=0.5 in /usr/local/lib/python3.7/dist-packages (from pexpect; sys_platform != \"win32\"->ipython>=4.0.0; python_version >= \"3.3\"->ipywidgets>=7.0.0->ipyevents->leafmap) (0.7.0)\n",
            "Requirement already satisfied: pyzmq>=13 in /usr/local/lib/python3.7/dist-packages (from jupyter-client->ipykernel>=4.5.1->ipywidgets>=7.0.0->ipyevents->leafmap) (22.0.3)\n",
            "Requirement already satisfied: nbconvert in /usr/local/lib/python3.7/dist-packages (from notebook>=4.4.1->widgetsnbextension~=3.5.0->ipywidgets>=7.0.0->ipyevents->leafmap) (5.6.1)\n",
            "Requirement already satisfied: Send2Trash in /usr/local/lib/python3.7/dist-packages (from notebook>=4.4.1->widgetsnbextension~=3.5.0->ipywidgets>=7.0.0->ipyevents->leafmap) (1.5.0)\n",
            "Requirement already satisfied: terminado>=0.8.1 in /usr/local/lib/python3.7/dist-packages (from notebook>=4.4.1->widgetsnbextension~=3.5.0->ipywidgets>=7.0.0->ipyevents->leafmap) (0.10.0)\n",
            "Requirement already satisfied: pandocfilters>=1.4.1 in /usr/local/lib/python3.7/dist-packages (from nbconvert->notebook>=4.4.1->widgetsnbextension~=3.5.0->ipywidgets>=7.0.0->ipyevents->leafmap) (1.4.3)\n",
            "Requirement already satisfied: defusedxml in /usr/local/lib/python3.7/dist-packages (from nbconvert->notebook>=4.4.1->widgetsnbextension~=3.5.0->ipywidgets>=7.0.0->ipyevents->leafmap) (0.7.1)\n",
            "Requirement already satisfied: mistune<2,>=0.8.1 in /usr/local/lib/python3.7/dist-packages (from nbconvert->notebook>=4.4.1->widgetsnbextension~=3.5.0->ipywidgets>=7.0.0->ipyevents->leafmap) (0.8.4)\n",
            "Requirement already satisfied: bleach in /usr/local/lib/python3.7/dist-packages (from nbconvert->notebook>=4.4.1->widgetsnbextension~=3.5.0->ipywidgets>=7.0.0->ipyevents->leafmap) (3.3.0)\n",
            "Requirement already satisfied: entrypoints>=0.2.2 in /usr/local/lib/python3.7/dist-packages (from nbconvert->notebook>=4.4.1->widgetsnbextension~=3.5.0->ipywidgets>=7.0.0->ipyevents->leafmap) (0.3)\n",
            "Requirement already satisfied: testpath in /usr/local/lib/python3.7/dist-packages (from nbconvert->notebook>=4.4.1->widgetsnbextension~=3.5.0->ipywidgets>=7.0.0->ipyevents->leafmap) (0.5.0)\n",
            "Requirement already satisfied: packaging in /usr/local/lib/python3.7/dist-packages (from bleach->nbconvert->notebook>=4.4.1->widgetsnbextension~=3.5.0->ipywidgets>=7.0.0->ipyevents->leafmap) (20.9)\n",
            "Requirement already satisfied: webencodings in /usr/local/lib/python3.7/dist-packages (from bleach->nbconvert->notebook>=4.4.1->widgetsnbextension~=3.5.0->ipywidgets>=7.0.0->ipyevents->leafmap) (0.5.1)\n",
            "Building wheels for collected packages: pyshp, pycrs\n",
            "  Building wheel for pyshp (setup.py) ... \u001b[?25l\u001b[?25hdone\n",
            "  Created wheel for pyshp: filename=pyshp-2.1.3-cp37-none-any.whl size=37325 sha256=649dc871eb3dd66937f3a6290040ddc3f8acd6240079bb74c04af78ca5dfa7cb\n",
            "  Stored in directory: /root/.cache/pip/wheels/76/2b/d4/53e6b9a0fb0a9f9f29664cf82605af8bc81d5ab44d987896dd\n",
            "  Building wheel for pycrs (setup.py) ... \u001b[?25l\u001b[?25hdone\n",
            "  Created wheel for pycrs: filename=PyCRS-1.0.2-cp37-none-any.whl size=32705 sha256=aaf2103da2ad34beedd7afb23136e221d517079fd1459198de923668f7c4e421\n",
            "  Stored in directory: /root/.cache/pip/wheels/1a/c9/56/648f762bd41fdb03454be51b8a7069795925168833cb61f316\n",
            "Successfully built pyshp pycrs\n",
            "\u001b[31mERROR: datascience 0.10.6 has requirement folium==0.2.1, but you'll have folium 0.12.1 which is incompatible.\u001b[0m\n",
            "Installing collected packages: folium, ipyevents, python-box, ipytree, whitebox, ipyfilechooser, whiteboxgui, colour, pyshp, mss, pycrs, traittypes, bqplot, ipyleaflet, leafmap\n",
            "  Found existing installation: folium 0.8.3\n",
            "    Uninstalling folium-0.8.3:\n",
            "      Successfully uninstalled folium-0.8.3\n",
            "Successfully installed bqplot-0.12.29 colour-0.1.5 folium-0.12.1 ipyevents-0.8.2 ipyfilechooser-0.4.3 ipyleaflet-0.13.6 ipytree-0.2.1 leafmap-0.2.0 mss-6.1.0 pycrs-1.0.2 pyshp-2.1.3 python-box-5.3.0 traittypes-0.2.1 whitebox-1.5.0 whiteboxgui-0.1.9\n"
          ],
          "name": "stdout"
        }
      ]
    },
    {
      "cell_type": "markdown",
      "metadata": {
        "id": "O6kVlxZTQ3D2"
      },
      "source": [
        "To follow this tutorial, you need to install the [leafmap] and [xarray_leaflet](https://github.com/davidbrochart/xarray_leaflet/tree/master/xarray_leaflet) Python packages. Use the following conda commmands to create a conda env and install packages:\n",
        "\n",
        "- `conda create -n gee python`\n",
        "- `conda activate gee`\n",
        "- `conda install mamba -c conda-forge`\n",
        "- `mamba install leafmap xarray_leaflet -c conda-forge`"
      ]
    },
    {
      "cell_type": "markdown",
      "metadata": {
        "id": "LJWoLTFqQ3D3"
      },
      "source": [
        "Import libraries"
      ]
    },
    {
      "cell_type": "code",
      "metadata": {
        "id": "vWkblqb3Q3D3"
      },
      "source": [
        "import os\n",
        "import leafmap.leafmap as leafmap"
      ],
      "execution_count": 2,
      "outputs": []
    },
    {
      "cell_type": "markdown",
      "metadata": {
        "id": "QGgoupArQ3D3"
      },
      "source": [
        "Specify input raster datasets"
      ]
    },
    {
      "cell_type": "code",
      "metadata": {
        "id": "SiTLV_XOQ3D4"
      },
      "source": [
        "out_dir = os.path.expanduser('~/Downloads')\n",
        "\n",
        "if not os.path.exists(out_dir):\n",
        "    os.makedirs(out_dir)\n",
        "\n",
        "landsat = os.path.join(out_dir, 'landsat.tif')\n",
        "dem = os.path.join(out_dir, 'dem.tif')"
      ],
      "execution_count": 3,
      "outputs": []
    },
    {
      "cell_type": "markdown",
      "metadata": {
        "id": "ImLKO0lSQ3D4"
      },
      "source": [
        "Download samples raster datasets\n",
        "\n",
        "More datasets can be downloaded from https://viewer.nationalmap.gov/basic/"
      ]
    },
    {
      "cell_type": "code",
      "metadata": {
        "id": "LCQKvvS0Q3D4",
        "outputId": "0ab94904-7cac-40fa-ecb2-50b4ac854293",
        "colab": {
          "base_uri": "https://localhost:8080/"
        }
      },
      "source": [
        "if not os.path.exists(landsat):\n",
        "    landsat_url = 'https://drive.google.com/file/d/1EV38RjNxdwEozjc9m0FcO3LFgAoAX1Uw/view?usp=sharing'\n",
        "    leafmap.download_from_gdrive(landsat_url, 'landsat.tif', out_dir, unzip=False)"
      ],
      "execution_count": 4,
      "outputs": [
        {
          "output_type": "stream",
          "text": [
            "Google Drive file id: 1EV38RjNxdwEozjc9m0FcO3LFgAoAX1Uw\n",
            "Downloading 1EV38RjNxdwEozjc9m0FcO3LFgAoAX1Uw into /root/Downloads/landsat.tif... Done.\n"
          ],
          "name": "stdout"
        }
      ]
    },
    {
      "cell_type": "code",
      "metadata": {
        "id": "6E-rBTJKQ3D5",
        "outputId": "80ea23b6-0edb-44a6-b727-6862ed653b2f",
        "colab": {
          "base_uri": "https://localhost:8080/"
        }
      },
      "source": [
        "if not os.path.exists(dem):\n",
        "    dem_url = 'https://drive.google.com/file/d/1vRkAWQYsLWCi6vcTMk8vLxoXMFbdMFn8/view?usp=sharing'\n",
        "    leafmap.download_from_gdrive(dem_url, 'dem.tif', out_dir, unzip=False)"
      ],
      "execution_count": 5,
      "outputs": [
        {
          "output_type": "stream",
          "text": [
            "Google Drive file id: 1vRkAWQYsLWCi6vcTMk8vLxoXMFbdMFn8\n",
            "Downloading 1vRkAWQYsLWCi6vcTMk8vLxoXMFbdMFn8 into /root/Downloads/dem.tif... Done.\n"
          ],
          "name": "stdout"
        }
      ]
    },
    {
      "cell_type": "markdown",
      "metadata": {
        "id": "I0dVYv1LQ3D5"
      },
      "source": [
        "Create an interactive map"
      ]
    },
    {
      "cell_type": "code",
      "metadata": {
        "id": "ww5j5AhoQ3D5"
      },
      "source": [
        "Map = leafmap.Map()"
      ],
      "execution_count": 6,
      "outputs": []
    },
    {
      "cell_type": "markdown",
      "metadata": {
        "id": "TAcs5zTdQ3D6"
      },
      "source": [
        "Add local raster datasets to the map\n",
        "\n",
        "More colormap can be found at https://matplotlib.org/3.1.0/tutorials/colors/colormaps.html"
      ]
    },
    {
      "cell_type": "code",
      "metadata": {
        "id": "PxHIIk4BQ3D6",
        "outputId": "51b99686-356e-452a-88f3-d16bc31474d6",
        "colab": {
          "base_uri": "https://localhost:8080/",
          "height": 562
        }
      },
      "source": [
        "Map.add_raster(dem, colormap='terrain', layer_name='DEM')"
      ],
      "execution_count": 7,
      "outputs": [
        {
          "output_type": "error",
          "ename": "ImportError",
          "evalue": "ignored",
          "traceback": [
            "\u001b[0;31m---------------------------------------------------------------------------\u001b[0m",
            "\u001b[0;31mModuleNotFoundError\u001b[0m                       Traceback (most recent call last)",
            "\u001b[0;32m/usr/local/lib/python3.7/dist-packages/leafmap/leafmap.py\u001b[0m in \u001b[0;36madd_raster\u001b[0;34m(self, image, bands, layer_name, colormap, x_dim, y_dim)\u001b[0m\n\u001b[1;32m   1321\u001b[0m         \u001b[0;32mtry\u001b[0m\u001b[0;34m:\u001b[0m\u001b[0;34m\u001b[0m\u001b[0;34m\u001b[0m\u001b[0m\n\u001b[0;32m-> 1322\u001b[0;31m             \u001b[0;32mimport\u001b[0m \u001b[0mxarray_leaflet\u001b[0m\u001b[0;34m\u001b[0m\u001b[0;34m\u001b[0m\u001b[0m\n\u001b[0m\u001b[1;32m   1323\u001b[0m \u001b[0;34m\u001b[0m\u001b[0m\n",
            "\u001b[0;31mModuleNotFoundError\u001b[0m: No module named 'xarray_leaflet'",
            "\nDuring handling of the above exception, another exception occurred:\n",
            "\u001b[0;31mImportError\u001b[0m                               Traceback (most recent call last)",
            "\u001b[0;32m<ipython-input-7-908d2e69de70>\u001b[0m in \u001b[0;36m<module>\u001b[0;34m()\u001b[0m\n\u001b[0;32m----> 1\u001b[0;31m \u001b[0mMap\u001b[0m\u001b[0;34m.\u001b[0m\u001b[0madd_raster\u001b[0m\u001b[0;34m(\u001b[0m\u001b[0mdem\u001b[0m\u001b[0;34m,\u001b[0m \u001b[0mcolormap\u001b[0m\u001b[0;34m=\u001b[0m\u001b[0;34m'terrain'\u001b[0m\u001b[0;34m,\u001b[0m \u001b[0mlayer_name\u001b[0m\u001b[0;34m=\u001b[0m\u001b[0;34m'DEM'\u001b[0m\u001b[0;34m)\u001b[0m\u001b[0;34m\u001b[0m\u001b[0;34m\u001b[0m\u001b[0m\n\u001b[0m",
            "\u001b[0;32m/usr/local/lib/python3.7/dist-packages/leafmap/leafmap.py\u001b[0m in \u001b[0;36madd_raster\u001b[0;34m(self, image, bands, layer_name, colormap, x_dim, y_dim)\u001b[0m\n\u001b[1;32m   1331\u001b[0m             \u001b[0;31m# else:\u001b[0m\u001b[0;34m\u001b[0m\u001b[0;34m\u001b[0m\u001b[0;34m\u001b[0m\u001b[0m\n\u001b[1;32m   1332\u001b[0m             raise ImportError(\n\u001b[0;32m-> 1333\u001b[0;31m                 \u001b[0;34m\"You need to install xarray_leaflet first. See https://github.com/davidbrochart/xarray_leaflet\"\u001b[0m\u001b[0;34m\u001b[0m\u001b[0;34m\u001b[0m\u001b[0m\n\u001b[0m\u001b[1;32m   1334\u001b[0m             )\n\u001b[1;32m   1335\u001b[0m \u001b[0;34m\u001b[0m\u001b[0m\n",
            "\u001b[0;31mImportError\u001b[0m: You need to install xarray_leaflet first. See https://github.com/davidbrochart/xarray_leaflet",
            "",
            "\u001b[0;31m---------------------------------------------------------------------------\u001b[0;32m\nNOTE: If your import is failing due to a missing package, you can\nmanually install dependencies using either !pip or !apt.\n\nTo view examples of installing some common dependencies, click the\n\"Open Examples\" button below.\n\u001b[0;31m---------------------------------------------------------------------------\u001b[0m\n"
          ]
        }
      ]
    },
    {
      "cell_type": "code",
      "metadata": {
        "id": "coE3wGo3Q3D6",
        "outputId": "d6e52420-0989-42aa-8193-1216c7cb3f55",
        "colab": {
          "base_uri": "https://localhost:8080/",
          "height": 562
        }
      },
      "source": [
        "Map.add_raster(landsat, bands=[5, 4, 3], layer_name='Landsat')"
      ],
      "execution_count": 8,
      "outputs": [
        {
          "output_type": "error",
          "ename": "ImportError",
          "evalue": "ignored",
          "traceback": [
            "\u001b[0;31m---------------------------------------------------------------------------\u001b[0m",
            "\u001b[0;31mModuleNotFoundError\u001b[0m                       Traceback (most recent call last)",
            "\u001b[0;32m/usr/local/lib/python3.7/dist-packages/leafmap/leafmap.py\u001b[0m in \u001b[0;36madd_raster\u001b[0;34m(self, image, bands, layer_name, colormap, x_dim, y_dim)\u001b[0m\n\u001b[1;32m   1321\u001b[0m         \u001b[0;32mtry\u001b[0m\u001b[0;34m:\u001b[0m\u001b[0;34m\u001b[0m\u001b[0;34m\u001b[0m\u001b[0m\n\u001b[0;32m-> 1322\u001b[0;31m             \u001b[0;32mimport\u001b[0m \u001b[0mxarray_leaflet\u001b[0m\u001b[0;34m\u001b[0m\u001b[0;34m\u001b[0m\u001b[0m\n\u001b[0m\u001b[1;32m   1323\u001b[0m \u001b[0;34m\u001b[0m\u001b[0m\n",
            "\u001b[0;31mModuleNotFoundError\u001b[0m: No module named 'xarray_leaflet'",
            "\nDuring handling of the above exception, another exception occurred:\n",
            "\u001b[0;31mImportError\u001b[0m                               Traceback (most recent call last)",
            "\u001b[0;32m<ipython-input-8-4fed1df1bcca>\u001b[0m in \u001b[0;36m<module>\u001b[0;34m()\u001b[0m\n\u001b[0;32m----> 1\u001b[0;31m \u001b[0mMap\u001b[0m\u001b[0;34m.\u001b[0m\u001b[0madd_raster\u001b[0m\u001b[0;34m(\u001b[0m\u001b[0mlandsat\u001b[0m\u001b[0;34m,\u001b[0m \u001b[0mbands\u001b[0m\u001b[0;34m=\u001b[0m\u001b[0;34m[\u001b[0m\u001b[0;36m5\u001b[0m\u001b[0;34m,\u001b[0m \u001b[0;36m4\u001b[0m\u001b[0;34m,\u001b[0m \u001b[0;36m3\u001b[0m\u001b[0;34m]\u001b[0m\u001b[0;34m,\u001b[0m \u001b[0mlayer_name\u001b[0m\u001b[0;34m=\u001b[0m\u001b[0;34m'Landsat'\u001b[0m\u001b[0;34m)\u001b[0m\u001b[0;34m\u001b[0m\u001b[0;34m\u001b[0m\u001b[0m\n\u001b[0m",
            "\u001b[0;32m/usr/local/lib/python3.7/dist-packages/leafmap/leafmap.py\u001b[0m in \u001b[0;36madd_raster\u001b[0;34m(self, image, bands, layer_name, colormap, x_dim, y_dim)\u001b[0m\n\u001b[1;32m   1331\u001b[0m             \u001b[0;31m# else:\u001b[0m\u001b[0;34m\u001b[0m\u001b[0;34m\u001b[0m\u001b[0;34m\u001b[0m\u001b[0m\n\u001b[1;32m   1332\u001b[0m             raise ImportError(\n\u001b[0;32m-> 1333\u001b[0;31m                 \u001b[0;34m\"You need to install xarray_leaflet first. See https://github.com/davidbrochart/xarray_leaflet\"\u001b[0m\u001b[0;34m\u001b[0m\u001b[0;34m\u001b[0m\u001b[0m\n\u001b[0m\u001b[1;32m   1334\u001b[0m             )\n\u001b[1;32m   1335\u001b[0m \u001b[0;34m\u001b[0m\u001b[0m\n",
            "\u001b[0;31mImportError\u001b[0m: You need to install xarray_leaflet first. See https://github.com/davidbrochart/xarray_leaflet",
            "",
            "\u001b[0;31m---------------------------------------------------------------------------\u001b[0;32m\nNOTE: If your import is failing due to a missing package, you can\nmanually install dependencies using either !pip or !apt.\n\nTo view examples of installing some common dependencies, click the\n\"Open Examples\" button below.\n\u001b[0;31m---------------------------------------------------------------------------\u001b[0m\n"
          ]
        }
      ]
    },
    {
      "cell_type": "markdown",
      "metadata": {
        "id": "XONvzIsfQ3D6"
      },
      "source": [
        "Display the map"
      ]
    },
    {
      "cell_type": "code",
      "metadata": {
        "id": "HbhYqETVQ3D7",
        "outputId": "2c30cbd6-729f-4df4-c981-7e87b3634bbc",
        "colab": {
          "base_uri": "https://localhost:8080/",
          "height": 17,
          "referenced_widgets": [
            "273617e89c6c4d0a970f88d5bab41d64"
          ]
        }
      },
      "source": [
        "Map"
      ],
      "execution_count": 9,
      "outputs": [
        {
          "output_type": "display_data",
          "data": {
            "application/vnd.jupyter.widget-view+json": {
              "model_id": "273617e89c6c4d0a970f88d5bab41d64",
              "version_minor": 0,
              "version_major": 2
            },
            "text/plain": [
              "Map(center=[40, -100], controls=(ZoomControl(options=['position', 'zoom_in_text', 'zoom_in_title', 'zoom_out_t…"
            ]
          },
          "metadata": {
            "tags": []
          }
        }
      ]
    }
  ]
}